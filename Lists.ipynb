{
 "cells": [
  {
   "cell_type": "markdown",
   "metadata": {},
   "source": [
    "*list in python*"
   ]
  },
  {
   "cell_type": "code",
   "execution_count": 2,
   "metadata": {},
   "outputs": [
    {
     "name": "stdout",
     "output_type": "stream",
     "text": [
      "[1, 'danii', 24, 1.45, 4.56]\n"
     ]
    }
   ],
   "source": [
    "lstemp=[]\n",
    "\n",
    "lst=['0ne' ,'tow' , 'three' , 'four' , 'five'] #list of sstrings\n",
    "\n",
    "lst2=[1 , 2 , 3 , 4 , 5 ,6] #list of integer\n",
    "\n",
    "lst3=[[1,2] , [3,4,5]] #list of lists\n",
    "\n",
    "lst4=[1, 'danii' , 24 , 1.45 , 4.56] #list of diffrenet datatypes\n",
    "\n",
    "print(lst4)"
   ]
  },
  {
   "cell_type": "code",
   "execution_count": 3,
   "metadata": {},
   "outputs": [
    {
     "name": "stdout",
     "output_type": "stream",
     "text": [
      "['0ne', 'tow', 'three', 'four', 'five']\n"
     ]
    }
   ],
   "source": [
    "print(lst)"
   ]
  },
  {
   "cell_type": "code",
   "execution_count": 13,
   "metadata": {},
   "outputs": [
    {
     "name": "stdout",
     "output_type": "stream",
     "text": [
      "4\n"
     ]
    }
   ],
   "source": [
    "print(lst2[3])"
   ]
  },
  {
   "cell_type": "code",
   "execution_count": 11,
   "metadata": {},
   "outputs": [
    {
     "name": "stdout",
     "output_type": "stream",
     "text": [
      "[1, 2]\n"
     ]
    }
   ],
   "source": [
    "print(lst3[0])"
   ]
  },
  {
   "cell_type": "code",
   "execution_count": 16,
   "metadata": {},
   "outputs": [
    {
     "name": "stdout",
     "output_type": "stream",
     "text": [
      "1\n",
      "2\n",
      "3\n",
      "4\n",
      "5\n",
      "6\n"
     ]
    }
   ],
   "source": [
    "for ls in lst2:\n",
    "    print(ls)"
   ]
  },
  {
   "cell_type": "code",
   "execution_count": 19,
   "metadata": {},
   "outputs": [
    {
     "name": "stdout",
     "output_type": "stream",
     "text": [
      "0ne\n",
      "tow\n",
      "three\n",
      "four\n",
      "five\n"
     ]
    }
   ],
   "source": [
    "for ls in range(len(lst)):\n",
    "  print(lst[ls])"
   ]
  },
  {
   "cell_type": "markdown",
   "metadata": {},
   "source": [
    "*List Append*"
   ]
  },
  {
   "cell_type": "code",
   "execution_count": 4,
   "metadata": {},
   "outputs": [
    {
     "name": "stdout",
     "output_type": "stream",
     "text": [
      "['one', 'two', 'three', 'Four', 'five', 'six', '7']\n"
     ]
    }
   ],
   "source": [
    "lst=['one' , 'two' , 'three' , 'Four' ]\n",
    "\n",
    "lst.append('five')\n",
    "lst.append('six') \n",
    "lst.append('7')#append will add the item at the end\n",
    "\n",
    "print(lst)"
   ]
  },
  {
   "cell_type": "markdown",
   "metadata": {},
   "source": [
    "*List Insert*"
   ]
  },
  {
   "cell_type": "code",
   "execution_count": 6,
   "metadata": {},
   "outputs": [
    {
     "name": "stdout",
     "output_type": "stream",
     "text": [
      "['one', 'two', 'three', 'four', 'five']\n"
     ]
    }
   ],
   "source": [
    "#syntax: lst.insert(x,y)\n",
    "\n",
    "lst = ['one' , 'two' ,'four']\n",
    "\n",
    "lst.insert(2, \"three\")\n",
    "\n",
    "lst.insert(4,\"five\") #will add element y at location x\n",
    "\n",
    "print(lst)"
   ]
  },
  {
   "cell_type": "markdown",
   "metadata": {},
   "source": [
    "*List Remove*"
   ]
  },
  {
   "cell_type": "code",
   "execution_count": 8,
   "metadata": {},
   "outputs": [
    {
     "name": "stdout",
     "output_type": "stream",
     "text": [
      "['two', 'three', 'six', 'five', 'one']\n"
     ]
    }
   ],
   "source": [
    "#syntax: lst.remove(x)\n",
    "\n",
    "lst = ['one' , 'two' , 'three' ,'five' ,'six' , 'five' ,'one']\n",
    "\n",
    "lst.remove('five')\n",
    "lst.remove('one') #it will remove first occurance of 'five' in a given list\n",
    "\n",
    "print(lst)"
   ]
  },
  {
   "cell_type": "markdown",
   "metadata": {},
   "source": [
    "*List Append & Extend*"
   ]
  },
  {
   "cell_type": "code",
   "execution_count": 9,
   "metadata": {},
   "outputs": [
    {
     "name": "stdout",
     "output_type": "stream",
     "text": [
      "['one', 'two', 'three', 'five', 'six', ['seven', 'nine']]\n"
     ]
    }
   ],
   "source": [
    "lst = ['one' , 'two' , 'three' ,'five' ,'six']\n",
    "\n",
    "lst2= ['seven' , 'nine']\n",
    "\n",
    "#append\n",
    "lst.append(lst2)\n",
    "\n",
    "print(lst)\n"
   ]
  },
  {
   "cell_type": "code",
   "execution_count": 10,
   "metadata": {},
   "outputs": [
    {
     "name": "stdout",
     "output_type": "stream",
     "text": [
      "['one', 'two', 'three', 'five', 'six', 'seven', 'nine']\n"
     ]
    }
   ],
   "source": [
    "lst = ['one' , 'two' , 'three' ,'five' ,'six']\n",
    "\n",
    "lst2= ['seven' , 'nine']\n",
    "\n",
    "#extend\n",
    "lst.extend(lst2)\n",
    "\n",
    "print(lst)"
   ]
  },
  {
   "cell_type": "markdown",
   "metadata": {},
   "source": [
    "*List Delete*\n"
   ]
  },
  {
   "cell_type": "code",
   "execution_count": 12,
   "metadata": {},
   "outputs": [
    {
     "name": "stdout",
     "output_type": "stream",
     "text": [
      "['one', 'two', 'five', 'six']\n",
      "five\n",
      "['one', 'two', 'six']\n"
     ]
    }
   ],
   "source": [
    "#del to remove item based on index position\n",
    "lst = ['one' , 'two' , 'three' ,'five' ,'six']\n",
    "\n",
    "del lst[2]\n",
    "print(lst)\n",
    "\n",
    "#or we can use pop() method\n",
    "a = lst.pop(2)\n",
    "print(a)\n",
    "\n",
    "print(lst)"
   ]
  },
  {
   "cell_type": "markdown",
   "metadata": {},
   "source": [
    "*List Related Keywords in Python*"
   ]
  },
  {
   "cell_type": "code",
   "execution_count": 16,
   "metadata": {},
   "outputs": [
    {
     "name": "stdout",
     "output_type": "stream",
     "text": [
      "AI\n",
      "ML\n"
     ]
    }
   ],
   "source": [
    "#keyword 'in' is used to test if an item is in a list\n",
    "lst = ['one' , 'two' ,'three' ,'four']\n",
    "\n",
    "if 'three' in lst:\n",
    "    print('AI')\n",
    "if 'one' in lst:\n",
    "    print('ML')"
   ]
  },
  {
   "cell_type": "markdown",
   "metadata": {},
   "source": [
    "*List Reverse*"
   ]
  },
  {
   "cell_type": "code",
   "execution_count": 17,
   "metadata": {},
   "outputs": [
    {
     "name": "stdout",
     "output_type": "stream",
     "text": [
      "['four', 'three', 'two', 'one']\n"
     ]
    }
   ],
   "source": [
    "#reverse is reverses the entire list\n",
    "\n",
    "lst = ['one' , 'two' ,'three' ,'four']\n",
    "\n",
    "lst.reverse()\n",
    "\n",
    "print(lst)"
   ]
  },
  {
   "cell_type": "markdown",
   "metadata": {},
   "source": [
    "*List Sorting*\n"
   ]
  },
  {
   "cell_type": "code",
   "execution_count": 18,
   "metadata": {},
   "outputs": [
    {
     "name": "stdout",
     "output_type": "stream",
     "text": [
      "sorted list : [3, 4, 5, 6, 8, 10]\n",
      "Original list: [3, 4, 5, 6, 8, 10]\n"
     ]
    }
   ],
   "source": [
    "#crete a list with numbers\n",
    "numbers= [3,4,5,6,8,10]\n",
    "\n",
    "sorted_lst = sorted(numbers)\n",
    "\n",
    "print(\"sorted list :\", sorted_lst)\n",
    "\n",
    "#original list remain unchanged\n",
    "print(\"Original list:\", numbers)"
   ]
  }
 ],
 "metadata": {
  "kernelspec": {
   "display_name": "Python 3",
   "language": "python",
   "name": "python3"
  },
  "language_info": {
   "codemirror_mode": {
    "name": "ipython",
    "version": 3
   },
   "file_extension": ".py",
   "mimetype": "text/x-python",
   "name": "python",
   "nbconvert_exporter": "python",
   "pygments_lexer": "ipython3",
   "version": "3.12.3"
  }
 },
 "nbformat": 4,
 "nbformat_minor": 2
}
