{
 "cells": [
  {
   "cell_type": "markdown",
   "metadata": {},
   "source": [
    "#SEARCH, SORT AND FILTER ARRAYS"
   ]
  },
  {
   "cell_type": "code",
   "execution_count": 3,
   "metadata": {},
   "outputs": [
    {
     "name": "stdout",
     "output_type": "stream",
     "text": [
      "[[ 2  4  7  8  9 12]\n",
      " [ 1  2  3  4  6  8]]\n"
     ]
    }
   ],
   "source": [
    "import numpy as np\n",
    "\n",
    "ar = np.array([[2,7,8,4,12,9],[2,4,8,1,3,6]])\n",
    "print(np.sort(ar))"
   ]
  },
  {
   "cell_type": "code",
   "execution_count": 6,
   "metadata": {},
   "outputs": [
    {
     "name": "stdout",
     "output_type": "stream",
     "text": [
      "(array([1, 4]),)\n"
     ]
    }
   ],
   "source": [
    "ar = np.array([3,4,1,7,8])\n",
    "s = np.where(ar % 2 == 0 )\n",
    "print(s)"
   ]
  },
  {
   "cell_type": "code",
   "execution_count": 8,
   "metadata": {},
   "outputs": [
    {
     "name": "stdout",
     "output_type": "stream",
     "text": [
      "4\n"
     ]
    }
   ],
   "source": [
    "ar = np.array([1,2,3,4,5])\n",
    "ss = np.searchsorted(ar,5)\n",
    "print(ss)"
   ]
  },
  {
   "cell_type": "code",
   "execution_count": 9,
   "metadata": {},
   "outputs": [
    {
     "name": "stdout",
     "output_type": "stream",
     "text": [
      "[20 40]\n"
     ]
    }
   ],
   "source": [
    "ar = np.array([20,30,40,50])\n",
    "\n",
    "fa = [True, False, True, False]\n",
    "\n",
    "new = ar[fa]\n",
    "print(new)"
   ]
  }
 ],
 "metadata": {
  "kernelspec": {
   "display_name": "Python 3",
   "language": "python",
   "name": "python3"
  },
  "language_info": {
   "codemirror_mode": {
    "name": "ipython",
    "version": 3
   },
   "file_extension": ".py",
   "mimetype": "text/x-python",
   "name": "python",
   "nbconvert_exporter": "python",
   "pygments_lexer": "ipython3",
   "version": "3.12.3"
  }
 },
 "nbformat": 4,
 "nbformat_minor": 2
}
