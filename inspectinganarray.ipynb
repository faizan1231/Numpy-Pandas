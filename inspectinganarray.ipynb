{
 "cells": [
  {
   "cell_type": "markdown",
   "metadata": {},
   "source": [
    "#Inspecting an Array\n",
    "#In This we check in array what is the shape ,size,dimension and check its datatype and change\n",
    "a.shape - Array dimensions\n",
    "len(a) -length of array\n",
    "b.ndim - number of array dimensions\n",
    "e.size - number of array elements \n",
    "b.dtype - data type of array elements\n",
    "b.astype(int) - convert on array to a different type"
   ]
  },
  {
   "cell_type": "code",
   "execution_count": 16,
   "metadata": {},
   "outputs": [
    {
     "name": "stdout",
     "output_type": "stream",
     "text": [
      "[[ 30  40  50  60  70  10]\n",
      " [ 30   4   5 100  20  11]]\n",
      "(2, 6)\n",
      "2\n",
      "12\n",
      "<class 'numpy.ndarray'>\n",
      "int64\n",
      "[['30' '40' '50' '60' '70' '10']\n",
      " ['30' '4' '5' '100' '20' '11']]\n",
      "[[ 30  40  50  60  70  10]\n",
      " [ 30   4   5 100  20  11]]\n"
     ]
    }
   ],
   "source": [
    "import numpy as np\n",
    "\n",
    "a =([[30,40,50,60,70,10],[30,4,5,100,20,11]])\n",
    "arr = np.array(a)\n",
    "print(arr)\n",
    "print(arr.shape) #rows,colums\n",
    "print(len(arr)) #number of nested values\n",
    "print(np.size(arr)) #number of elements\n",
    "print(type(arr)) #datatype of variable\n",
    "print(arr.dtype) #datatype of array\n",
    "print(arr.astype(str)) #conversion of datatypes\n",
    "print(arr.astype(int))\n"
   ]
  },
  {
   "cell_type": "markdown",
   "metadata": {},
   "source": [
    "#Mathematical Operations And Functions On Arrays"
   ]
  },
  {
   "cell_type": "code",
   "execution_count": 24,
   "metadata": {},
   "outputs": [
    {
     "name": "stdout",
     "output_type": "stream",
     "text": [
      "[[60 60]\n",
      " [40 30]]\n",
      "[[60 60]\n",
      " [40 30]]\n"
     ]
    }
   ],
   "source": [
    "import numpy as np\n",
    "\n",
    "arr1 = np.array([[30,40],[20,10]])\n",
    "arr2 = np.array([[30,20],[20,20]])\n",
    "print(arr1+arr2)\n",
    "print(np.add(arr1,arr2))"
   ]
  },
  {
   "cell_type": "code",
   "execution_count": 25,
   "metadata": {},
   "outputs": [
    {
     "name": "stdout",
     "output_type": "stream",
     "text": [
      "[[  0  20]\n",
      " [  0 -10]]\n",
      "[[  0  20]\n",
      " [  0 -10]]\n"
     ]
    }
   ],
   "source": [
    "import numpy as np\n",
    "\n",
    "arr1 = np.array([[30,40],[20,10]])\n",
    "arr2 = np.array([[30,20],[20,20]])\n",
    "print(arr1-arr2)\n",
    "print(np.subtract(arr1,arr2))"
   ]
  },
  {
   "cell_type": "code",
   "execution_count": 26,
   "metadata": {},
   "outputs": [
    {
     "name": "stdout",
     "output_type": "stream",
     "text": [
      "[[900 800]\n",
      " [400 200]]\n",
      "[[900 800]\n",
      " [400 200]]\n"
     ]
    }
   ],
   "source": [
    "import numpy as np\n",
    "\n",
    "arr1 = np.array([[30,40],[20,10]])\n",
    "arr2 = np.array([[30,20],[20,20]])\n",
    "print(arr1*arr2)\n",
    "print(np.multiply(arr1,arr2))"
   ]
  },
  {
   "cell_type": "code",
   "execution_count": 27,
   "metadata": {},
   "outputs": [
    {
     "name": "stdout",
     "output_type": "stream",
     "text": [
      "[[1.  2. ]\n",
      " [1.  0.5]]\n",
      "[[1.  2. ]\n",
      " [1.  0.5]]\n"
     ]
    }
   ],
   "source": [
    "import numpy as np\n",
    "\n",
    "arr1 = np.array([[30,40],[20,10]])\n",
    "arr2 = np.array([[30,20],[20,20]])\n",
    "print(arr1/arr2)\n",
    "print(np.divide(arr1,arr2))"
   ]
  },
  {
   "cell_type": "code",
   "execution_count": 31,
   "metadata": {},
   "outputs": [
    {
     "name": "stdout",
     "output_type": "stream",
     "text": [
      "[[ 9 16]\n",
      " [ 4 25]]\n"
     ]
    }
   ],
   "source": [
    "arr1 = np.array([[3,4],[2,5]])\n",
    "arr2 = np.array([2])\n",
    "print(np.power(arr1,arr2))"
   ]
  },
  {
   "cell_type": "code",
   "execution_count": 32,
   "metadata": {},
   "outputs": [
    {
     "name": "stdout",
     "output_type": "stream",
     "text": [
      "[[1.73205081 2.        ]\n",
      " [1.41421356 2.23606798]]\n"
     ]
    }
   ],
   "source": [
    "arr = np.array([9,16,25,4])\n",
    "print(np.sqrt(arr1))"
   ]
  }
 ],
 "metadata": {
  "kernelspec": {
   "display_name": "Python 3",
   "language": "python",
   "name": "python3"
  },
  "language_info": {
   "codemirror_mode": {
    "name": "ipython",
    "version": 3
   },
   "file_extension": ".py",
   "mimetype": "text/x-python",
   "name": "python",
   "nbconvert_exporter": "python",
   "pygments_lexer": "ipython3",
   "version": "3.12.3"
  }
 },
 "nbformat": 4,
 "nbformat_minor": 2
}
