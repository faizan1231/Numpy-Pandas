{
 "cells": [
  {
   "cell_type": "markdown",
   "metadata": {},
   "source": [
    "#COMBINING AND SPLITTING ARRAYS"
   ]
  },
  {
   "cell_type": "code",
   "execution_count": 2,
   "metadata": {},
   "outputs": [
    {
     "name": "stdout",
     "output_type": "stream",
     "text": [
      "[30 40 50  5  5  3]\n"
     ]
    }
   ],
   "source": [
    "import numpy as np\n",
    "#Concatenate\n",
    "\n",
    "arr1 = np.array([30,40,50])\n",
    "arr2 = np.array([5,5,3])\n",
    "print(np.concatenate([arr1,arr2])) "
   ]
  },
  {
   "cell_type": "code",
   "execution_count": 3,
   "metadata": {},
   "outputs": [
    {
     "name": "stdout",
     "output_type": "stream",
     "text": [
      "[30 40 50  5  5  3]\n"
     ]
    }
   ],
   "source": [
    "print(np.concatenate([arr1,arr2],axis = 0))"
   ]
  },
  {
   "cell_type": "code",
   "execution_count": 5,
   "metadata": {},
   "outputs": [
    {
     "name": "stdout",
     "output_type": "stream",
     "text": [
      "[[30 40 50]\n",
      " [ 5  5  3]]\n"
     ]
    }
   ],
   "source": [
    "print(np.vstack([arr1,arr2])) #vertical concatenate"
   ]
  },
  {
   "cell_type": "code",
   "execution_count": 9,
   "metadata": {},
   "outputs": [
    {
     "name": "stdout",
     "output_type": "stream",
     "text": [
      "[array([20, 30]), array([40, 50]), array([60]), array([70])]\n"
     ]
    }
   ],
   "source": [
    "a = np.array([20,30,40,50,60,70])\n",
    "b =np.array_split(a,4)\n",
    "print(b)"
   ]
  }
 ],
 "metadata": {
  "kernelspec": {
   "display_name": "Python 3",
   "language": "python",
   "name": "python3"
  },
  "language_info": {
   "codemirror_mode": {
    "name": "ipython",
    "version": 3
   },
   "file_extension": ".py",
   "mimetype": "text/x-python",
   "name": "python",
   "nbconvert_exporter": "python",
   "pygments_lexer": "ipython3",
   "version": "3.12.3"
  }
 },
 "nbformat": 4,
 "nbformat_minor": 2
}
