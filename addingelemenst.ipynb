{
 "cells": [
  {
   "cell_type": "markdown",
   "metadata": {},
   "source": [
    "#Adding and Removing Elements in the Arrays\n",
    " np.append(h,g) -Append items to and array\n",
    " np.insert(a,1,5) -Inserts items in an array\n",
    "np.delete (a,[1]) -Delete items from an array"
   ]
  },
  {
   "cell_type": "code",
   "execution_count": 1,
   "metadata": {},
   "outputs": [
    {
     "name": "stdout",
     "output_type": "stream",
     "text": [
      "[ 20  40  50  80  90 100]\n"
     ]
    }
   ],
   "source": [
    "import numpy as np\n",
    "\n",
    "a = np.array([[20,40],[50,80]])\n",
    "print(np.append(a,[90,100]))"
   ]
  },
  {
   "cell_type": "code",
   "execution_count": 4,
   "metadata": {},
   "outputs": [
    {
     "name": "stdout",
     "output_type": "stream",
     "text": [
      "[20 70 40 50 80]\n"
     ]
    }
   ],
   "source": [
    "print(np.insert(a,1,70))"
   ]
  },
  {
   "cell_type": "code",
   "execution_count": 7,
   "metadata": {},
   "outputs": [
    {
     "name": "stdout",
     "output_type": "stream",
     "text": [
      "[[20 10 40 30]\n",
      " [50 10 80 30]]\n"
     ]
    }
   ],
   "source": [
    "print(np.insert(a,[1,2],[10,30], axis = 1)) #array,index,value"
   ]
  },
  {
   "cell_type": "code",
   "execution_count": 11,
   "metadata": {},
   "outputs": [
    {
     "name": "stdout",
     "output_type": "stream",
     "text": [
      "[[20 40]\n",
      " [50 80]]\n",
      "[[20]\n",
      " [50]]\n"
     ]
    }
   ],
   "source": [
    "print(a)\n",
    "print(np.delete(a,1, axis = 1))"
   ]
  }
 ],
 "metadata": {
  "kernelspec": {
   "display_name": "Python 3",
   "language": "python",
   "name": "python3"
  },
  "language_info": {
   "codemirror_mode": {
    "name": "ipython",
    "version": 3
   },
   "file_extension": ".py",
   "mimetype": "text/x-python",
   "name": "python",
   "nbconvert_exporter": "python",
   "pygments_lexer": "ipython3",
   "version": "3.12.3"
  }
 },
 "nbformat": 4,
 "nbformat_minor": 2
}
