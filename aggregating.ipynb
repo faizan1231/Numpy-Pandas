{
 "cells": [
  {
   "cell_type": "markdown",
   "metadata": {},
   "source": [
    "#ADDREGATING FUNCTIONS IN NUMPY"
   ]
  },
  {
   "cell_type": "code",
   "execution_count": 11,
   "metadata": {},
   "outputs": [
    {
     "name": "stdout",
     "output_type": "stream",
     "text": [
      "140\n",
      "20\n",
      "50\n",
      "4\n",
      "35.0\n",
      "[ 20  50  90 140]\n",
      "[     20     600   24000 1200000]\n"
     ]
    }
   ],
   "source": [
    "import numpy as np\n",
    "\n",
    "a = np.array([20,30,40,50])\n",
    "\n",
    "print(np.sum(a))\n",
    "print(np.min(a))\n",
    "print(np.max(a))\n",
    "print(np.size(a))\n",
    "print(np.mean(a)) #avrage value\n",
    "print(np.cumsum(a))\n",
    "print(np.cumprod(a))"
   ]
  },
  {
   "cell_type": "code",
   "execution_count": 19,
   "metadata": {},
   "outputs": [
    {
     "name": "stdout",
     "output_type": "stream",
     "text": [
      "[100 500 200 250 140] \n",
      " [10 50 30 10 40]\n",
      "[[  100   500   200   250   140]\n",
      " [ 1000 25000  6000  2500  5600]]\n"
     ]
    }
   ],
   "source": [
    "a = [100,500,200,250,140]\n",
    "b = [10,50,30,10,40]\n",
    "\n",
    "price = np.array(a)\n",
    "quantity = np.array(b)\n",
    "\n",
    "print(price,\"\\n\", quantity)\n",
    "\n",
    "print(np.cumprod([price,quantity], axis = 0))"
   ]
  }
 ],
 "metadata": {
  "kernelspec": {
   "display_name": "Python 3",
   "language": "python",
   "name": "python3"
  },
  "language_info": {
   "codemirror_mode": {
    "name": "ipython",
    "version": 3
   },
   "file_extension": ".py",
   "mimetype": "text/x-python",
   "name": "python",
   "nbconvert_exporter": "python",
   "pygments_lexer": "ipython3",
   "version": "3.12.3"
  }
 },
 "nbformat": 4,
 "nbformat_minor": 2
}
